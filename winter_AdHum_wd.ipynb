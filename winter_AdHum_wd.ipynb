{
 "cells": [
  {
   "cell_type": "markdown",
   "metadata": {},
   "source": [
    "# Heating and adiabatic humidification\n",
    "\n",
    "1. All outdoor air\n",
    "\n",
    "    -[CAV Sysmes](https://www.youtube.com/watch?v=6n_qYmbx_1g)\n",
    "    > Modify: operation or building characteristics\n",
    "\n",
    "    -[VAV Sysmes](https://www.youtube.com/watch?v=HBmOyeWtpHg)\n",
    "    > Modify: operation or building characteristics\n",
    "\n",
    "2. Recirculated air\n",
    "\n",
    "    -[CAV Sysmes](https://www.youtube.com/watch?v=6n_qYmbx_1g)\n",
    "    > Modify: operation or building characteristics\n",
    "\n",
    "    -[VAV Sysmes](https://www.youtube.com/watch?v=HBmOyeWtpHg)\n",
    "    > Modify: operation or building characteristics\n",
    "    \n",
    "\n",
    "In **Modify the operation**, the widgets are for:\n",
    "\n",
    "- $\\alpha$ ratio of outdoor air, -\n",
    "\n",
    "- $\\beta$ by-pass factor of the adiabatic humidifier, -\n",
    "\n",
    "- $\\theta_S^{sp}$ supply air set-point, °C\n",
    "\n",
    "- $\\theta_I^{sp}$ indoor air set-point, °C\n",
    "\n",
    "- $\\varphi_I^{sp}$ indoor air relative humidity set-point, -\n",
    "\n",
    "- $\\theta_O$ outdoor air temperature, °C\n",
    "\n",
    "- $\\varphi_O$ outdoor air relative , -\n",
    "\n",
    "In **Modify the characteritics of the building**, the widgets are for:\n",
    "- $\\dot{Q}_{sa}$ auxiliary sensible heat, W\n",
    "\n",
    "- $\\dot{Q}_{la}$ auxiliary latent heat, W\n",
    "\n",
    "- $\\dot{m}_i$ air infiltration mass flow rate, kg/s\n",
    "\n",
    "- $UA$ global condunctivity of the building, W/K"
   ]
  },
  {
   "cell_type": "markdown",
   "metadata": {},
   "source": [
    "[Widgets](https://ipywidgets.readthedocs.io/en/latest/)\n",
    "[Pandas PyData](https://pandas.pydata.org/getting_started.html)\n",
    "[Pandas](https://chrisalbon.com/python/data_wrangling/pandas_selecting_rows_on_conditions/)"
   ]
  },
  {
   "cell_type": "code",
   "execution_count": 1,
   "metadata": {},
   "outputs": [],
   "source": [
    "from ipywidgets import interact, interactive, fixed, interact_manual\n",
    "import ipywidgets as widgets\n",
    "import matplotlib.pyplot as plt\n",
    "\n",
    "# %matplotlib inline  # uncomment for inline figure\n",
    "# uncomment for figure in separate window\n",
    "# %matplotlib qt\n",
    "# plt.show()\n",
    "\n",
    "# plt.rcParams[\"figure.figsize\"] = (30,20)\n",
    "# font = {'weight' : 'bold',\n",
    "#        'size'   : 30}\n",
    "# plt.rc('font', **font)"
   ]
  },
  {
   "cell_type": "markdown",
   "metadata": {},
   "source": [
    "## Recirculated air"
   ]
  },
  {
   "cell_type": "markdown",
   "metadata": {},
   "source": [
    "### Constant air volume (CAV)\n",
    "[CAV Systems](https://www.youtube.com/watch?v=6n_qYmbx_1g)\n",
    "\n",
    "<img src=\"Figures/winter_AdHum_Rec_CAV.png\" alt=\"winter_AllO_VaHum_CAV\" style=\"width: 600px;\"/>"
   ]
  },
  {
   "cell_type": "markdown",
   "metadata": {},
   "source": [
    "#### Modify the operation"
   ]
  },
  {
   "cell_type": "code",
   "execution_count": 2,
   "metadata": {},
   "outputs": [],
   "source": [
    "def RecAirCAV_wd(alpha=1, beta=0.1, tS=30, tIsp=18, phiIsp=0.5, tO=-1, phiO=1):\n",
    "    Qsa=0.\n",
    "    Qla=0.\n",
    "    mi=2.12\n",
    "    UA=935.83\n",
    "    from winter_AdHum import RecAirCAV\n",
    "    RecAirCAV(alpha, beta, tS, tIsp, phiIsp, tO, phiO, Qsa, Qla, mi, UA)"
   ]
  },
  {
   "cell_type": "code",
   "execution_count": 3,
   "metadata": {},
   "outputs": [
    {
     "data": {
      "application/vnd.jupyter.widget-view+json": {
       "model_id": "ed20329198624ee89f5a12c3188c7c5b",
       "version_major": 2,
       "version_minor": 0
      },
      "text/plain": [
       "interactive(children=(FloatSlider(value=1.0, description='alpha', max=1.0), FloatSlider(value=0.1, description…"
      ]
     },
     "metadata": {},
     "output_type": "display_data"
    },
    {
     "data": {
      "text/plain": [
       "<function __main__.RecAirCAV_wd(alpha=1, beta=0.1, tS=30, tIsp=18, phiIsp=0.5, tO=-1, phiO=1)>"
      ]
     },
     "execution_count": 3,
     "metadata": {},
     "output_type": "execute_result"
    }
   ],
   "source": [
    "interact(RecAirCAV_wd, alpha=(0,1,0.1), beta=(0,0.99,0.1),\n",
    "         tSsp = (20,50,2),\n",
    "         tIsp = (17,25,1), phiIsp = (0,1,0.1),\n",
    "         tO = (-10.,17.,2), phiO = (0,1,0.1))"
   ]
  },
  {
   "cell_type": "markdown",
   "metadata": {},
   "source": [
    "#### Modify the characteristics of the building"
   ]
  },
  {
   "cell_type": "code",
   "execution_count": 4,
   "metadata": {},
   "outputs": [],
   "source": [
    "def RecAirCAV_wd(Qsa=0, Qla=0, mi=2.12, UA=935.83):\n",
    "    alpha=1\n",
    "    beta=0.1\n",
    "    tSsp=30\n",
    "    tIsp=18\n",
    "    phiIsp=0.5\n",
    "    tO=-1\n",
    "    phiO=1\n",
    "    from winter_AdHum import RecAirCAV\n",
    "    RecAirCAV(alpha, beta, tSsp, tIsp, phiIsp, tO, phiO, \n",
    "                 Qsa, Qla, mi, UA)"
   ]
  },
  {
   "cell_type": "code",
   "execution_count": 5,
   "metadata": {},
   "outputs": [
    {
     "data": {
      "application/vnd.jupyter.widget-view+json": {
       "model_id": "2acd8c4fd38b4eb0abde92ddbcbed36a",
       "version_major": 2,
       "version_minor": 0
      },
      "text/plain": [
       "interactive(children=(IntSlider(value=0, description='Qsa', max=15000, step=50), IntSlider(value=0, descriptio…"
      ]
     },
     "metadata": {},
     "output_type": "display_data"
    },
    {
     "data": {
      "text/plain": [
       "<function __main__.RecAirCAV_wd(Qsa=0, Qla=0, mi=2.12, UA=935.83)>"
      ]
     },
     "execution_count": 5,
     "metadata": {},
     "output_type": "execute_result"
    }
   ],
   "source": [
    "interact(RecAirCAV_wd, Qsa=(0, 15000,50), Qla=(0,15000,50), mi = (0,5,0.2), UA = (700,1000,10))"
   ]
  },
  {
   "cell_type": "markdown",
   "metadata": {},
   "source": [
    "### Variable air volume (VAV)\n",
    "\n",
    "<img src=\"Figures/winter_AdHum_Rec_VAV.png\" alt=\"winter_AllO_VaHum_CAV\" style=\"width: 600px;\"/>"
   ]
  },
  {
   "cell_type": "markdown",
   "metadata": {},
   "source": [
    "#### Modify the operation"
   ]
  },
  {
   "cell_type": "code",
   "execution_count": 6,
   "metadata": {},
   "outputs": [],
   "source": [
    "def RecAirVAV_wd(alpha=1, beta=0.1, tS=30, tIsp=18, phiIsp=0.5, tO=-1, phiO=1):\n",
    "    Qsa=0.\n",
    "    Qla=0.\n",
    "    mi=2.12\n",
    "    UA=935.83\n",
    "    from winter_AdHum import RecAirVAV\n",
    "    RecAirVAV(alpha, beta, tS, tIsp, phiIsp, tO, phiO, Qsa, Qla, mi, UA)"
   ]
  },
  {
   "cell_type": "code",
   "execution_count": 7,
   "metadata": {},
   "outputs": [
    {
     "data": {
      "application/vnd.jupyter.widget-view+json": {
       "model_id": "58566f1b58914cc590147119682b5260",
       "version_major": 2,
       "version_minor": 0
      },
      "text/plain": [
       "interactive(children=(FloatSlider(value=1.0, description='alpha', max=1.0), FloatSlider(value=0.1, description…"
      ]
     },
     "metadata": {},
     "output_type": "display_data"
    },
    {
     "data": {
      "text/plain": [
       "<function __main__.RecAirVAV_wd(alpha=1, beta=0.1, tS=30, tIsp=18, phiIsp=0.5, tO=-1, phiO=1)>"
      ]
     },
     "execution_count": 7,
     "metadata": {},
     "output_type": "execute_result"
    }
   ],
   "source": [
    "interact(RecAirVAV_wd, alpha=(0,1,0.1), beta=(0,0.99,0.1),\n",
    "         tSsp = (20,50,2),\n",
    "         tIsp = (17,25,1), phiIsp = (0,1,0.1),\n",
    "         tO = (-10.,17.,2), phiO = (0,1,0.1))"
   ]
  },
  {
   "cell_type": "markdown",
   "metadata": {},
   "source": [
    "#### Modify the characteristics of the building"
   ]
  },
  {
   "cell_type": "code",
   "execution_count": 8,
   "metadata": {},
   "outputs": [],
   "source": [
    "def RecAirVAV_wd(Qsa=0, Qla=0, mi=2.12, UA=935.83):\n",
    "    alpha=1\n",
    "    beta=0.1\n",
    "    tSsp=30\n",
    "    tIsp=18\n",
    "    phiIsp=0.5\n",
    "    tO=-1\n",
    "    phiO=1\n",
    "    from winter_AdHum import RecAirVAV\n",
    "    RecAirVAV(alpha, beta, tSsp, tIsp, phiIsp, tO, phiO, \n",
    "                 Qsa, Qla, mi, UA)"
   ]
  },
  {
   "cell_type": "code",
   "execution_count": 9,
   "metadata": {},
   "outputs": [
    {
     "data": {
      "application/vnd.jupyter.widget-view+json": {
       "model_id": "188897a522684068ab18eb38981f21e1",
       "version_major": 2,
       "version_minor": 0
      },
      "text/plain": [
       "interactive(children=(IntSlider(value=0, description='Qsa', max=15000, step=50), IntSlider(value=0, descriptio…"
      ]
     },
     "metadata": {},
     "output_type": "display_data"
    },
    {
     "data": {
      "text/plain": [
       "<function __main__.RecAirVAV_wd(Qsa=0, Qla=0, mi=2.12, UA=935.83)>"
      ]
     },
     "execution_count": 9,
     "metadata": {},
     "output_type": "execute_result"
    }
   ],
   "source": [
    "interact(RecAirVAV_wd, Qsa=(0, 15000,50), Qla=(0,15000,50), mi = (0,5,0.2), UA = (700,1000,10))"
   ]
  }
 ],
 "metadata": {
  "kernelspec": {
   "display_name": "Python 3",
   "language": "python",
   "name": "python3"
  },
  "language_info": {
   "codemirror_mode": {
    "name": "ipython",
    "version": 3
   },
   "file_extension": ".py",
   "mimetype": "text/x-python",
   "name": "python",
   "nbconvert_exporter": "python",
   "pygments_lexer": "ipython3",
   "version": "3.7.7"
  },
  "toc-autonumbering": true
 },
 "nbformat": 4,
 "nbformat_minor": 4
}
