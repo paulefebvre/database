{
 "cells": [
  {
   "cell_type": "markdown",
   "metadata": {},
   "source": [
    "# Loads\n",
    "\n",
    "Estimate the values of building characteristic and auxiliary loads\n",
    "\n",
    "Total:\n",
    "- sensible: 40 kW\n",
    "- latent: 15 kW"
   ]
  },
  {
   "cell_type": "code",
   "execution_count": 2,
   "metadata": {},
   "outputs": [
    {
     "name": "stdout",
     "output_type": "stream",
     "text": [
      "QsTZ = 42947 W, QlTZ = 16338 W\n",
      "UA = 674 W/K, mi = 1.11 kg/s,      Qsa = 32250 W, Qla = 4000 W\n",
      "m = 2.863 kg/s\n"
     ]
    }
   ],
   "source": [
    "import psychro as psy\n",
    "# constants\n",
    "c = 1e3         # J/kg K, air specific heat\n",
    "l = 2496e3      # J/kg, latent heat\n",
    "ρ = 1.2         # kg/m3, density\n",
    "\n",
    "# Buildig dimensions\n",
    "length = 20     # m\n",
    "width = 30      # m\n",
    "height = 3.5    # m\n",
    "persons = 100   # m\n",
    "\n",
    "sens_heat_person = 60       # W / person\n",
    "latent_heat_person = 40     # W / person\n",
    "load_m2 = 20        # W/m2\n",
    "solar_m2 = 150      # W/m2 of window area\n",
    "ACH = 1             # Air Cnhnages per Hour\n",
    "U_wall = 0.4        # W/K, overall heat transfer coeff. walls\n",
    "U_window = 3.5      # W/K, overall heat transfer coeff. windows\n",
    "\n",
    "θo, φo = 32, 0.5    # outdoor temperature & relative humidity\n",
    "θI, φI = 26, 0.5    # indoor temperature & relative humidity\n",
    "wo = psy.w(θo, φo)\n",
    "wI = psy.w(θI, φI)\n",
    "\n",
    "floor_area = length * width\n",
    "surface_envelope = 2 * (length + width) * height + floor_area\n",
    "surface_wall = 0.9 * surface_envelope\n",
    "surface_window = surface_envelope - surface_wall\n",
    "\n",
    "# building conductance, W/K\n",
    "UA = U_wall * surface_wall + U_window * surface_window\n",
    "\n",
    "# infiltration mass flow rate, kg/s\n",
    "mi = ACH * surface_envelope * height / 3600 * ρ\n",
    "\n",
    "# gains, W\n",
    "solar_gains = solar_m2 * surface_window\n",
    "electrical_load = load_m2 * floor_area\n",
    "Qsa = persons * sens_heat_person + solar_gains + electrical_load\n",
    "Qla = persons * latent_heat_person\n",
    "\n",
    "# thermal loads, W\n",
    "QsTZ = (UA + mi * c) * (θo - θI) + Qsa  # sensible\n",
    "QlTZ = mi * l * (wo - wI) + Qla         # latent\n",
    "\n",
    "θS = θI - 15                            # °C supply air temperature\n",
    "m = QsTZ / c / ((θI - θS))              # kg/s supply air mass flow rate\n",
    "\n",
    "print(f'QsTZ = {QsTZ:.0f} W, QlTZ = {QlTZ:.0f} W')\n",
    "print(f'UA = {UA:.0f} W/K, mi = {mi:.2f} kg/s,\\\n",
    "      Qsa = {Qsa:.0f} W, Qla = {Qla:.0f} W')\n",
    "print(f'm = {m:.3f} kg/s')\n"
   ]
  },
  {
   "cell_type": "markdown",
   "metadata": {},
   "source": [
    "**References**\n",
    "\n",
    "Pennycook, K. (Ed.). (2003). Rules of Thumb: Guidelines for Building Services. BSRIA."
   ]
  },
  {
   "cell_type": "code",
   "execution_count": null,
   "metadata": {},
   "outputs": [],
   "source": []
  }
 ],
 "metadata": {
  "kernelspec": {
   "display_name": "Python 3",
   "language": "python",
   "name": "python3"
  },
  "language_info": {
   "codemirror_mode": {
    "name": "ipython",
    "version": 3
   },
   "file_extension": ".py",
   "mimetype": "text/x-python",
   "name": "python",
   "nbconvert_exporter": "python",
   "pygments_lexer": "ipython3",
   "version": "3.8.5"
  }
 },
 "nbformat": 4,
 "nbformat_minor": 4
}
