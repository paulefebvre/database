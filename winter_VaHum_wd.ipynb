{
 "cells": [
  {
   "cell_type": "markdown",
   "metadata": {},
   "source": [
    "# Heating and vapor humidification\n",
    "\n",
    "1. All outdoor air\n",
    "\n",
    "    -[CAV Sysmes](https://www.youtube.com/watch?v=6n_qYmbx_1g)\n",
    "    > Modify: operation or building characteristics\n",
    "\n",
    "    -[VAV Sysmes](https://www.youtube.com/watch?v=HBmOyeWtpHg)\n",
    "    > Modify: operation or building characteristics\n",
    "\n",
    "2. Recirculated air\n",
    "\n",
    "    -[CAV Sysmes](https://www.youtube.com/watch?v=6n_qYmbx_1g)\n",
    "    > Modify: operation or building characteristics\n",
    "\n",
    "    -[VAV Sysmes](https://www.youtube.com/watch?v=HBmOyeWtpHg)\n",
    "    > Modify: operation or building characteristics\n",
    "    \n",
    "\n",
    "In **Modify the operation**, the widgets are for:\n",
    "\n",
    "- $\\theta_S^{sp}$ supply air set-point, °C\n",
    "\n",
    "- $\\theta_I^{sp}$ indoor air set-point, °C\n",
    "\n",
    "- $\\varphi_I^{sp}$ indoor air relative humidity set-point, -\n",
    "\n",
    "- $\\theta_O$ outdoor air temperature, °C\n",
    "\n",
    "- $\\varphi_O$ outdoor air relative , -\n",
    "\n",
    "In **Modify the characteritics of the building**, the widgets are for:\n",
    "- $\\dot{Q}_{sa}$ auxiliary sensible heat, W\n",
    "\n",
    "- $\\dot{Q}_{la}$ auxiliary latent heat, W\n",
    "\n",
    "- $\\dot{m}_i$ air infiltration mass flow rate, kg/s\n",
    "\n",
    "- $UA$ global condunctivity of the building, W/K"
   ]
  },
  {
   "cell_type": "code",
   "execution_count": 1,
   "metadata": {},
   "outputs": [],
   "source": [
    "from ipywidgets import interact, interactive, fixed, interact_manual\n",
    "import ipywidgets as widgets\n",
    "import matplotlib.pyplot as plt\n",
    "\n",
    "# %matplotlib inline  # uncomment for inline figure\n",
    "# uncomment for figure in separate window\n",
    "# %matplotlib qt\n",
    "# plt.show()\n",
    "\n",
    "# plt.rcParams[\"figure.figsize\"] = (30,20)\n",
    "# font = {'weight' : 'bold',\n",
    "#        'size'   : 30}\n",
    "# plt.rc('font', **font)"
   ]
  },
  {
   "cell_type": "markdown",
   "metadata": {},
   "source": [
    "## All outdoor air"
   ]
  },
  {
   "cell_type": "markdown",
   "metadata": {},
   "source": [
    "### Constant air volume (CAV)\n",
    "[CAV Systems](https://www.youtube.com/watch?v=6n_qYmbx_1g)\n",
    "\n",
    "\n",
    "<img src=\"./Figures/winter_VaHum_AllO_CAV.png\" alt=\"winter_AllO_VaHum_CAV\" style=\"width: 600px;\"/>\n"
   ]
  },
  {
   "cell_type": "markdown",
   "metadata": {},
   "source": [
    "#### Modify the operation"
   ]
  },
  {
   "cell_type": "code",
   "execution_count": 2,
   "metadata": {},
   "outputs": [],
   "source": [
    "def AllOutAirCAV_wd(tSsp=30, tIsp=18, phiIsp=0.5, tO=-1, phiO=1):\n",
    "    Qsa=0.\n",
    "    Qla=0.\n",
    "    mi=2.12\n",
    "    UA=935.83\n",
    "    from winter_VaHum import AllOutAirCAV\n",
    "    AllOutAirCAV(tSsp, tIsp, phiIsp, tO, phiO, Qsa, Qla, mi, UA)"
   ]
  },
  {
   "cell_type": "code",
   "execution_count": 3,
   "metadata": {},
   "outputs": [
    {
     "data": {
      "application/vnd.jupyter.widget-view+json": {
       "model_id": "1676bf113d4f4c71826d2232671a5367",
       "version_major": 2,
       "version_minor": 0
      },
      "text/plain": [
       "interactive(children=(IntSlider(value=30, description='tSsp', max=50, min=20, step=2), IntSlider(value=18, des…"
      ]
     },
     "metadata": {},
     "output_type": "display_data"
    },
    {
     "data": {
      "text/plain": [
       "<function __main__.AllOutAirCAV_wd(tSsp=30, tIsp=18, phiIsp=0.5, tO=-1, phiO=1)>"
      ]
     },
     "execution_count": 3,
     "metadata": {},
     "output_type": "execute_result"
    }
   ],
   "source": [
    "interact(AllOutAirCAV_wd, tSsp = (20,50,2),\n",
    "         tIsp = (17,25,1), phiIsp = (0,1,0.1),\n",
    "         tO = (-10.,17.,2), phiO = (0,1,0.1))"
   ]
  },
  {
   "cell_type": "markdown",
   "metadata": {},
   "source": [
    "#### Modify the characteristics of the building"
   ]
  },
  {
   "cell_type": "code",
   "execution_count": 4,
   "metadata": {},
   "outputs": [],
   "source": [
    "def AllOutAirCAV_wd(Qsa=0, Qla=0, mi=2.12, UA=935.83):\n",
    "    tSsp=30\n",
    "    tIsp=18\n",
    "    phiIsp=0.5\n",
    "    tO=-1\n",
    "    phiO=1\n",
    "    from winter_VaHum import AllOutAirCAV\n",
    "    AllOutAirCAV(tSsp, tIsp, phiIsp, tO, phiO, \n",
    "                 Qsa, Qla, mi, UA)"
   ]
  },
  {
   "cell_type": "code",
   "execution_count": 5,
   "metadata": {},
   "outputs": [
    {
     "data": {
      "application/vnd.jupyter.widget-view+json": {
       "model_id": "ac456a98461f4f649df6674eee7d8ae5",
       "version_major": 2,
       "version_minor": 0
      },
      "text/plain": [
       "interactive(children=(IntSlider(value=0, description='Qsa', max=15000, step=50), IntSlider(value=0, descriptio…"
      ]
     },
     "metadata": {},
     "output_type": "display_data"
    },
    {
     "data": {
      "text/plain": [
       "<function __main__.AllOutAirCAV_wd(Qsa=0, Qla=0, mi=2.12, UA=935.83)>"
      ]
     },
     "execution_count": 5,
     "metadata": {},
     "output_type": "execute_result"
    }
   ],
   "source": [
    "interact(AllOutAirCAV_wd, Qsa=(0, 15000,50), Qla=(0,15000,50), mi = (0,5,0.2), UA = (700,1000,10))"
   ]
  },
  {
   "cell_type": "markdown",
   "metadata": {},
   "source": [
    "### Variable air volume (VAV)\n",
    "<img src=\"Figures/winter_VaHum_AllO_VAV.png\" alt=\"winter_AllO_VaHum_VAV\" style=\"width: 800px;\"/>"
   ]
  },
  {
   "cell_type": "markdown",
   "metadata": {},
   "source": [
    "#### Modify the operation"
   ]
  },
  {
   "cell_type": "code",
   "execution_count": 6,
   "metadata": {},
   "outputs": [],
   "source": [
    "def AllOutAirVAV_wd(tSsp=30, tIsp=18, phiIsp=0.5, tO=-1, phiO=1):\n",
    "    Qsa=0.\n",
    "    Qla=0.\n",
    "    mi=2.12\n",
    "    UA=935.83\n",
    "    from winter_VaHum import AllOutAirVAV\n",
    "    AllOutAirVAV(tSsp, tIsp, phiIsp, tO, phiO, Qsa, Qla, mi, UA)"
   ]
  },
  {
   "cell_type": "code",
   "execution_count": 7,
   "metadata": {},
   "outputs": [
    {
     "data": {
      "application/vnd.jupyter.widget-view+json": {
       "model_id": "a83dfd3257b8459f9be1791518c41d8d",
       "version_major": 2,
       "version_minor": 0
      },
      "text/plain": [
       "interactive(children=(IntSlider(value=30, description='tSsp', max=50, min=20, step=2), IntSlider(value=18, des…"
      ]
     },
     "metadata": {},
     "output_type": "display_data"
    },
    {
     "data": {
      "text/plain": [
       "<function __main__.AllOutAirVAV_wd(tSsp=30, tIsp=18, phiIsp=0.5, tO=-1, phiO=1)>"
      ]
     },
     "execution_count": 7,
     "metadata": {},
     "output_type": "execute_result"
    }
   ],
   "source": [
    "interact(AllOutAirVAV_wd, tSsp = (20,50,2),\n",
    "         tIsp = (17,25,1), phiIsp = (0,1,0.1),\n",
    "         tO = (-10.,17.,2), phiO = (0,1,0.1))"
   ]
  },
  {
   "cell_type": "markdown",
   "metadata": {},
   "source": [
    "#### Modify the characteristics of the building "
   ]
  },
  {
   "cell_type": "code",
   "execution_count": 8,
   "metadata": {},
   "outputs": [],
   "source": [
    "def AllOutAirVAV_wd(Qsa=0, Qla=0, mi=2.12, UA=935.83):\n",
    "    tSsp=30\n",
    "    tIsp=18\n",
    "    phiIsp=0.5\n",
    "    tO=-1\n",
    "    phiO=1\n",
    "    from winter_VaHum import AllOutAirVAV\n",
    "    AllOutAirVAV(tSsp, tIsp, phiIsp, tO, phiO, \n",
    "                 Qsa, Qla, mi, UA)"
   ]
  },
  {
   "cell_type": "code",
   "execution_count": 9,
   "metadata": {},
   "outputs": [
    {
     "data": {
      "application/vnd.jupyter.widget-view+json": {
       "model_id": "aff2ef3042b64c84b931fc29f1869306",
       "version_major": 2,
       "version_minor": 0
      },
      "text/plain": [
       "interactive(children=(IntSlider(value=0, description='Qsa', max=15000, step=50), IntSlider(value=0, descriptio…"
      ]
     },
     "metadata": {},
     "output_type": "display_data"
    },
    {
     "data": {
      "text/plain": [
       "<function __main__.AllOutAirVAV_wd(Qsa=0, Qla=0, mi=2.12, UA=935.83)>"
      ]
     },
     "execution_count": 9,
     "metadata": {},
     "output_type": "execute_result"
    }
   ],
   "source": [
    "interact(AllOutAirVAV_wd, Qsa=(0, 15000,50), Qla=(0,15000,50), mi = (0,5,0.2), UA = (700,1000,10))"
   ]
  },
  {
   "cell_type": "markdown",
   "metadata": {},
   "source": [
    "## Recycled air"
   ]
  },
  {
   "cell_type": "markdown",
   "metadata": {},
   "source": [
    "### Constant air volume (CAV)\n",
    "[CAV Systems](https://www.youtube.com/watch?v=6n_qYmbx_1g)\n",
    "\n",
    "- supply air mass flow rate: constant - determined for design conditions\n",
    "- supply temperature varies\n",
    "\n",
    "<img src=\"Figures/winter_VaHum_Rec_CAV.png\" alt=\"winter_AllO_VaHum_CAV\" style=\"width: 600px;\"/>"
   ]
  },
  {
   "cell_type": "markdown",
   "metadata": {},
   "source": [
    "#### Modify the operation"
   ]
  },
  {
   "cell_type": "code",
   "execution_count": 10,
   "metadata": {},
   "outputs": [],
   "source": [
    "def RecAirCAV_wd(alpha=0.5, tS=30, tIsp=18, phiIsp=0.5, tO=-1, phiO=1):\n",
    "    Qsa=0.\n",
    "    Qla=0.\n",
    "    mi=2.12\n",
    "    UA=935.83\n",
    "    from winter_VaHum import RecAirCAV\n",
    "    RecAirCAV(alpha, tS, tIsp, phiIsp, tO, phiO, Qsa, Qla, mi, UA)"
   ]
  },
  {
   "cell_type": "code",
   "execution_count": 11,
   "metadata": {},
   "outputs": [
    {
     "data": {
      "application/vnd.jupyter.widget-view+json": {
       "model_id": "77515e14e2f4465c870f94c8b93c25e8",
       "version_major": 2,
       "version_minor": 0
      },
      "text/plain": [
       "interactive(children=(FloatSlider(value=0.5, description='alpha', max=1.0), IntSlider(value=30, description='t…"
      ]
     },
     "metadata": {},
     "output_type": "display_data"
    },
    {
     "data": {
      "text/plain": [
       "<function __main__.RecAirCAV_wd(alpha=0.5, tS=30, tIsp=18, phiIsp=0.5, tO=-1, phiO=1)>"
      ]
     },
     "execution_count": 11,
     "metadata": {},
     "output_type": "execute_result"
    }
   ],
   "source": [
    "interact(RecAirCAV_wd, alpha = (0,1,0.1), tSsp = (20,50,2),\n",
    "         tIsp = (17,25,1), phiIsp = (0,1,0.1),\n",
    "         tO = (-10.,17.,2), phiO = (0,1,0.1))"
   ]
  },
  {
   "cell_type": "markdown",
   "metadata": {},
   "source": [
    "#### Modify the characteristics of the building"
   ]
  },
  {
   "cell_type": "code",
   "execution_count": null,
   "metadata": {},
   "outputs": [],
   "source": []
  },
  {
   "cell_type": "code",
   "execution_count": 12,
   "metadata": {},
   "outputs": [],
   "source": [
    "def RecAirCAV_wd(Qsa=0, Qla=0, mi=2.12, UA=935.83):\n",
    "    alpha=0.5\n",
    "    tSsp=30\n",
    "    tIsp=18\n",
    "    phiIsp=0.5\n",
    "    tO=-1\n",
    "    phiO=1\n",
    "    from winter_VaHum import RecAirCAV\n",
    "    RecAirCAV(alpha, tSsp, tIsp, phiIsp, tO, phiO, \n",
    "                 Qsa, Qla, mi, UA)"
   ]
  },
  {
   "cell_type": "code",
   "execution_count": 13,
   "metadata": {},
   "outputs": [
    {
     "data": {
      "application/vnd.jupyter.widget-view+json": {
       "model_id": "4fbc82f8bf0b4b4c9528ca87e6456700",
       "version_major": 2,
       "version_minor": 0
      },
      "text/plain": [
       "interactive(children=(IntSlider(value=0, description='Qsa', max=15000, step=50), IntSlider(value=0, descriptio…"
      ]
     },
     "metadata": {},
     "output_type": "display_data"
    },
    {
     "data": {
      "text/plain": [
       "<function __main__.RecAirCAV_wd(Qsa=0, Qla=0, mi=2.12, UA=935.83)>"
      ]
     },
     "execution_count": 13,
     "metadata": {},
     "output_type": "execute_result"
    }
   ],
   "source": [
    "interact(RecAirCAV_wd, Qsa=(0, 15000,50), Qla=(0,15000,50), mi = (0,5,0.2), UA = (700,1000,10))"
   ]
  },
  {
   "cell_type": "markdown",
   "metadata": {},
   "source": [
    "### Variable air volume (VAV)\n",
    "\n",
    "<img src=\"Figures/winter_VaHum_Rec_VAV.png\" alt=\"winter_Rec_VaHum_VAV\" style=\"width: 600px;\"/>"
   ]
  },
  {
   "cell_type": "markdown",
   "metadata": {},
   "source": [
    "#### Modify operation"
   ]
  },
  {
   "cell_type": "code",
   "execution_count": 14,
   "metadata": {},
   "outputs": [],
   "source": [
    "def RecAirVAV_wd(alpha=0.5, tS=30, tIsp=18, phiIsp=0.5, tO=-1, phiO=1):\n",
    "    Qsa=0.\n",
    "    Qla=0.\n",
    "    mi=2.12\n",
    "    UA=935.83\n",
    "    from winter_VaHum import RecAirVAV\n",
    "    RecAirVAV(alpha, tS, tIsp, phiIsp, tO, phiO, Qsa, Qla, mi, UA)"
   ]
  },
  {
   "cell_type": "code",
   "execution_count": 15,
   "metadata": {},
   "outputs": [
    {
     "data": {
      "application/vnd.jupyter.widget-view+json": {
       "model_id": "3ad90e1dad424a438827f55df961d050",
       "version_major": 2,
       "version_minor": 0
      },
      "text/plain": [
       "interactive(children=(FloatSlider(value=0.5, description='alpha', max=1.0), IntSlider(value=30, description='t…"
      ]
     },
     "metadata": {},
     "output_type": "display_data"
    },
    {
     "data": {
      "text/plain": [
       "<function __main__.RecAirVAV_wd(alpha=0.5, tS=30, tIsp=18, phiIsp=0.5, tO=-1, phiO=1)>"
      ]
     },
     "execution_count": 15,
     "metadata": {},
     "output_type": "execute_result"
    }
   ],
   "source": [
    "interact(RecAirVAV_wd, alpha = (0,1,0.1), tSsp = (20,50,2),\n",
    "         tIsp = (17,25,1), phiIsp = (0,1,0.1),\n",
    "         tO = (-10.,17.,2), phiO = (0,1,0.1))"
   ]
  },
  {
   "cell_type": "markdown",
   "metadata": {},
   "source": [
    "#### Modify the characteristics of the building"
   ]
  },
  {
   "cell_type": "code",
   "execution_count": null,
   "metadata": {},
   "outputs": [],
   "source": []
  },
  {
   "cell_type": "code",
   "execution_count": 16,
   "metadata": {},
   "outputs": [],
   "source": [
    "def RecAirVAV_wd(Qsa=0, Qla=0, mi=2.12, UA=935.83):\n",
    "    alpha=0.5\n",
    "    tSsp=30\n",
    "    tIsp=18\n",
    "    phiIsp=0.5\n",
    "    tO=-1\n",
    "    phiO=1\n",
    "    from winter_VaHum import RecAirVAV\n",
    "    RecAirVAV(alpha, tSsp, tIsp, phiIsp, tO, phiO, \n",
    "                 Qsa, Qla, mi, UA)"
   ]
  },
  {
   "cell_type": "code",
   "execution_count": 17,
   "metadata": {},
   "outputs": [
    {
     "data": {
      "application/vnd.jupyter.widget-view+json": {
       "model_id": "7ac7a36fd65e4365b8565b5a13ef037c",
       "version_major": 2,
       "version_minor": 0
      },
      "text/plain": [
       "interactive(children=(IntSlider(value=0, description='Qsa', max=15000, step=50), IntSlider(value=0, descriptio…"
      ]
     },
     "metadata": {},
     "output_type": "display_data"
    },
    {
     "data": {
      "text/plain": [
       "<function __main__.RecAirVAV_wd(Qsa=0, Qla=0, mi=2.12, UA=935.83)>"
      ]
     },
     "execution_count": 17,
     "metadata": {},
     "output_type": "execute_result"
    }
   ],
   "source": [
    "interact(RecAirVAV_wd, Qsa=(0, 15000,50), Qla=(0,15000,50), mi = (0,5,0.2), UA = (700,1000,10))"
   ]
  },
  {
   "cell_type": "markdown",
   "metadata": {},
   "source": [
    "__Bibliography__\n",
    "[Widgets](https://ipywidgets.readthedocs.io/en/latest/)\n",
    "[Pandas.PyData](https://pandas.pydata.org/getting_started.html)\n",
    "[Pandas](https://chrisalbon.com/python/data_wrangling/pandas_selecting_rows_on_conditions/)"
   ]
  },
  {
   "cell_type": "code",
   "execution_count": null,
   "metadata": {},
   "outputs": [],
   "source": []
  }
 ],
 "metadata": {
  "kernelspec": {
   "display_name": "Python 3",
   "language": "python",
   "name": "python3"
  },
  "language_info": {
   "codemirror_mode": {
    "name": "ipython",
    "version": 3
   },
   "file_extension": ".py",
   "mimetype": "text/x-python",
   "name": "python",
   "nbconvert_exporter": "python",
   "pygments_lexer": "ipython3",
   "version": "3.7.7"
  },
  "toc-autonumbering": true,
  "toc-showcode": false,
  "toc-showmarkdowntxt": false,
  "toc-showtags": false
 },
 "nbformat": 4,
 "nbformat_minor": 4
}
